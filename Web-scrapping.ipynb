{
 "cells": [
  {
   "cell_type": "markdown",
   "metadata": {},
   "source": [
    "In this project I will be learning how to scrape data off websites"
   ]
  },
  {
   "cell_type": "code",
   "execution_count": 2,
   "metadata": {},
   "outputs": [
    {
     "name": "stderr",
     "output_type": "stream",
     "text": [
      "/Users/sreya/Library/Python/3.9/lib/python/site-packages/urllib3/__init__.py:35: NotOpenSSLWarning: urllib3 v2 only supports OpenSSL 1.1.1+, currently the 'ssl' module is compiled with 'LibreSSL 2.8.3'. See: https://github.com/urllib3/urllib3/issues/3020\n",
      "  warnings.warn(\n"
     ]
    }
   ],
   "source": [
    "from bs4 import BeautifulSoup\n",
    "import requests"
   ]
  },
  {
   "cell_type": "code",
   "execution_count": 3,
   "metadata": {},
   "outputs": [],
   "source": [
    "url='https://en.wikipedia.org/wiki/List_of_automobile_manufacturers_of_the_United_States'\n",
    "\n",
    "page=requests.get(url)\n",
    "\n",
    "soup=BeautifulSoup(page.text,'html')"
   ]
  },
  {
   "cell_type": "code",
   "execution_count": 13,
   "metadata": {},
   "outputs": [],
   "source": [
    "#print(soup) "
   ]
  },
  {
   "cell_type": "markdown",
   "metadata": {},
   "source": [
    "right click on the webpage to inspect it"
   ]
  },
  {
   "cell_type": "code",
   "execution_count": 5,
   "metadata": {},
   "outputs": [
    {
     "name": "stdout",
     "output_type": "stream",
     "text": [
      "<table class=\"wikitable sortable\">\n",
      "<tbody><tr>\n",
      "<th>Parent company</th>\n",
      "<th>Brand</th>\n",
      "<th>Notes\n",
      "</th></tr>\n",
      "<tr>\n",
      "<td rowspan=\"4\"><a href=\"/wiki/General_Motors\" title=\"General Motors\">General Motors</a></td>\n",
      "<td><a class=\"mw-redirect\" href=\"/wiki/Buick_Motor_Company\" title=\"Buick Motor Company\">Buick</a></td>\n",
      "<td>Founded in 1899 as 'Buick Auto-Vim and Power Company' and acquired by General Motors in 1908.\n",
      "</td></tr>\n",
      "<tr>\n",
      "<td><a href=\"/wiki/Cadillac\" title=\"Cadillac\">Cadillac</a></td>\n",
      "<td>Founded as <a href=\"/wiki/Henry_Ford_Company\" title=\"Henry Ford Company\">Henry Ford Company</a> in 1901, renamed to Cadillac following <a href=\"/wiki/Henry_Ford\" title=\"Henry Ford\">Henry Ford</a>'s departure in 1902. <br/> Acquired by General Motors in 1909.\n",
      "</td></tr>\n",
      "<tr>\n",
      "<td><a href=\"/wiki/Chevrolet\" title=\"Chevrolet\">Chevrolet</a></td>\n",
      "<td>Founded in 1911 and acquired by General Motors in 1918.\n",
      "</td></tr>\n",
      "<tr>\n",
      "<td><a class=\"mw-redirect\" href=\"/wiki/GMC_(marque)\" title=\"GMC (marque)\">GMC</a></td>\n",
      "<td>Founded in 1900 as the <a class=\"mw-redirect\" href=\"/wiki/Grabowsky_Motor_Company\" title=\"Grabowsky Motor Company\">Grabowsky Motor Company</a>, renamed the <a href=\"/wiki/Rapid_Motor_Vehicle_Company\" title=\"Rapid Motor Vehicle Company\">Rapid Motor Vehicle Company</a> in 1902. <br/> Rapid was acquired in 1909 by General Motors, which merged it with the <a class=\"mw-redirect\" href=\"/wiki/Reliance_Motor_Car_Company\" title=\"Reliance Motor Car Company\">Reliance Motor Car Company</a> in <br/> 1911 to form the General Motors Truck Company (GMTC). <br/> In 1912 the two brands were replaced with the GMC brand.\n",
      "</td></tr>\n",
      "<tr>\n",
      "<td rowspan=\"4\"><a href=\"/wiki/Chrysler\" title=\"Chrysler\">Stellantis</a></td>\n",
      "<td><a href=\"/wiki/Chrysler_(brand)\" title=\"Chrysler (brand)\">Chrysler</a></td>\n",
      "<td>Founded in 1925 from the remnants of the <a href=\"/wiki/Maxwell_Motor_Company\" title=\"Maxwell Motor Company\">Maxwell Motor Company</a>. <br/> Acquired by <a class=\"mw-redirect\" href=\"/wiki/Daimler_AG\" title=\"Daimler AG\">Daimler-Benz</a> in 1998, forming DaimlerChrysler. <br/> Divested in 2007 and acquired by <a href=\"/wiki/Fiat_S.p.A.\" title=\"Fiat S.p.A.\">Fiat S.p.A.</a> in 2014, forming <a href=\"/wiki/Fiat_Chrysler_Automobiles\" title=\"Fiat Chrysler Automobiles\">Fiat Chrysler Automobiles</a> (FCA). <br/> FCA and <a href=\"/wiki/PSA_Group\" title=\"PSA Group\">PSA Group</a> merged in 2021 to form <a href=\"/wiki/Stellantis\" title=\"Stellantis\">Stellantis</a>.\n",
      "</td></tr>\n",
      "<tr>\n",
      "<td><a href=\"/wiki/Dodge\" title=\"Dodge\">Dodge</a></td>\n",
      "<td>Founded in 1914 and acquired by Chrysler in 1928.\n",
      "</td></tr>\n",
      "<tr>\n",
      "<td><a href=\"/wiki/Jeep\" title=\"Jeep\">Jeep</a></td>\n",
      "<td>Founded in 1941 by <a class=\"mw-redirect\" href=\"/wiki/Willys-Overland\" title=\"Willys-Overland\">Willys-Overland</a>, which merged with <a href=\"/wiki/Kaiser_Motors\" title=\"Kaiser Motors\">Kaiser Motors</a> in 1953. <br/> Kaiser Industries divested its automotive business to <a href=\"/wiki/American_Motors_Corporation\" title=\"American Motors Corporation\">AMC</a> in 1970, itself acquired by Chrysler in 1987.\n",
      "</td></tr>\n",
      "<tr>\n",
      "<td><a href=\"/wiki/Ram_Trucks\" title=\"Ram Trucks\">Ram Trucks</a></td>\n",
      "<td>Formed in 2010 during a restructure of Chrysler's truck brands.\n",
      "</td></tr>\n",
      "<tr>\n",
      "<td rowspan=\"2\"><a href=\"/wiki/Ford_Motor_Company\" title=\"Ford Motor Company\">Ford Motor Company</a></td>\n",
      "<td><a href=\"/wiki/Ford_Motor_Company\" title=\"Ford Motor Company\">Ford</a></td>\n",
      "<td>Founded in 1903 as Ford.\n",
      "</td></tr>\n",
      "<tr>\n",
      "<td><a href=\"/wiki/Lincoln_Motor_Company\" title=\"Lincoln Motor Company\">Lincoln</a></td>\n",
      "<td>Founded in 1917 and acquired by Ford Motor Company in 1922.\n",
      "</td></tr></tbody></table>\n"
     ]
    }
   ],
   "source": [
    "table =soup.find_all('table')[0] #selecting the first table only\n",
    "print(table)"
   ]
  },
  {
   "cell_type": "markdown",
   "metadata": {},
   "source": [
    "the column names are tagged as <th>"
   ]
  },
  {
   "cell_type": "code",
   "execution_count": 6,
   "metadata": {},
   "outputs": [
    {
     "name": "stdout",
     "output_type": "stream",
     "text": [
      "[<th>Parent company</th>, <th>Brand</th>, <th>Notes\n",
      "</th>]\n"
     ]
    }
   ],
   "source": [
    "#to print the column names\n",
    "\n",
    "titles = table.find_all('th')\n",
    "print(titles)"
   ]
  },
  {
   "cell_type": "code",
   "execution_count": 7,
   "metadata": {},
   "outputs": [
    {
     "name": "stdout",
     "output_type": "stream",
     "text": [
      "['Parent company', 'Brand', 'Notes']\n"
     ]
    }
   ],
   "source": [
    "word_titles = [title.text.strip() for title in titles]\n",
    "print(word_titles)"
   ]
  },
  {
   "cell_type": "code",
   "execution_count": 8,
   "metadata": {},
   "outputs": [],
   "source": [
    "import pandas as pd"
   ]
  },
  {
   "cell_type": "code",
   "execution_count": 9,
   "metadata": {},
   "outputs": [
    {
     "data": {
      "text/html": [
       "<div>\n",
       "<style scoped>\n",
       "    .dataframe tbody tr th:only-of-type {\n",
       "        vertical-align: middle;\n",
       "    }\n",
       "\n",
       "    .dataframe tbody tr th {\n",
       "        vertical-align: top;\n",
       "    }\n",
       "\n",
       "    .dataframe thead th {\n",
       "        text-align: right;\n",
       "    }\n",
       "</style>\n",
       "<table border=\"1\" class=\"dataframe\">\n",
       "  <thead>\n",
       "    <tr style=\"text-align: right;\">\n",
       "      <th></th>\n",
       "      <th>Parent company</th>\n",
       "      <th>Brand</th>\n",
       "      <th>Notes</th>\n",
       "    </tr>\n",
       "  </thead>\n",
       "  <tbody>\n",
       "  </tbody>\n",
       "</table>\n",
       "</div>"
      ],
      "text/plain": [
       "Empty DataFrame\n",
       "Columns: [Parent company, Brand, Notes]\n",
       "Index: []"
      ]
     },
     "execution_count": 9,
     "metadata": {},
     "output_type": "execute_result"
    }
   ],
   "source": [
    "df=pd.DataFrame(columns=word_titles)\n",
    "df"
   ]
  },
  {
   "cell_type": "markdown",
   "metadata": {},
   "source": [
    "From the data elements in inspect, we see that the data is stored in tr and tags in td"
   ]
  },
  {
   "cell_type": "code",
   "execution_count": 10,
   "metadata": {},
   "outputs": [
    {
     "name": "stdout",
     "output_type": "stream",
     "text": [
      "[]\n",
      "['General Motors', 'Buick', \"Founded in 1899 as 'Buick Auto-Vim and Power Company' and acquired by General Motors in 1908.\"]\n",
      "['Cadillac', \"Founded as Henry Ford Company in 1901, renamed to Cadillac following Henry Ford's departure in 1902.  Acquired by General Motors in 1909.\"]\n",
      "['Chevrolet', 'Founded in 1911 and acquired by General Motors in 1918.']\n",
      "['GMC', 'Founded in 1900 as the Grabowsky Motor Company, renamed the Rapid Motor Vehicle Company in 1902.  Rapid was acquired in 1909 by General Motors, which merged it with the Reliance Motor Car Company in  1911 to form the General Motors Truck Company (GMTC).  In 1912 the two brands were replaced with the GMC brand.']\n",
      "['Stellantis', 'Chrysler', 'Founded in 1925 from the remnants of the Maxwell Motor Company.  Acquired by Daimler-Benz in 1998, forming DaimlerChrysler.  Divested in 2007 and acquired by Fiat S.p.A. in 2014, forming Fiat Chrysler Automobiles (FCA).  FCA and PSA Group merged in 2021 to form Stellantis.']\n",
      "['Dodge', 'Founded in 1914 and acquired by Chrysler in 1928.']\n",
      "['Jeep', 'Founded in 1941 by Willys-Overland, which merged with Kaiser Motors in 1953.  Kaiser Industries divested its automotive business to AMC in 1970, itself acquired by Chrysler in 1987.']\n",
      "['Ram Trucks', \"Formed in 2010 during a restructure of Chrysler's truck brands.\"]\n",
      "['Ford Motor Company', 'Ford', 'Founded in 1903 as Ford.']\n",
      "['Lincoln', 'Founded in 1917 and acquired by Ford Motor Company in 1922.']\n"
     ]
    }
   ],
   "source": [
    "column_data=table.find_all('tr')\n",
    "\n",
    "for row in column_data:\n",
    "    row_data=row.find_all('td')\n",
    "    individual_row=[data.text.strip() for data in row_data]\n",
    "    print(individual_row)\n",
    "\n",
    "    \n"
   ]
  },
  {
   "cell_type": "code",
   "execution_count": 11,
   "metadata": {},
   "outputs": [
    {
     "name": "stdout",
     "output_type": "stream",
     "text": [
      "[<tr>\n",
      "<th>Parent company</th>\n",
      "<th>Brand</th>\n",
      "<th>Notes\n",
      "</th></tr>, <tr>\n",
      "<td rowspan=\"4\"><a href=\"/wiki/General_Motors\" title=\"General Motors\">General Motors</a></td>\n",
      "<td><a class=\"mw-redirect\" href=\"/wiki/Buick_Motor_Company\" title=\"Buick Motor Company\">Buick</a></td>\n",
      "<td>Founded in 1899 as 'Buick Auto-Vim and Power Company' and acquired by General Motors in 1908.\n",
      "</td></tr>, <tr>\n",
      "<td><a href=\"/wiki/Cadillac\" title=\"Cadillac\">Cadillac</a></td>\n",
      "<td>Founded as <a href=\"/wiki/Henry_Ford_Company\" title=\"Henry Ford Company\">Henry Ford Company</a> in 1901, renamed to Cadillac following <a href=\"/wiki/Henry_Ford\" title=\"Henry Ford\">Henry Ford</a>'s departure in 1902. <br/> Acquired by General Motors in 1909.\n",
      "</td></tr>, <tr>\n",
      "<td><a href=\"/wiki/Chevrolet\" title=\"Chevrolet\">Chevrolet</a></td>\n",
      "<td>Founded in 1911 and acquired by General Motors in 1918.\n",
      "</td></tr>, <tr>\n",
      "<td><a class=\"mw-redirect\" href=\"/wiki/GMC_(marque)\" title=\"GMC (marque)\">GMC</a></td>\n",
      "<td>Founded in 1900 as the <a class=\"mw-redirect\" href=\"/wiki/Grabowsky_Motor_Company\" title=\"Grabowsky Motor Company\">Grabowsky Motor Company</a>, renamed the <a href=\"/wiki/Rapid_Motor_Vehicle_Company\" title=\"Rapid Motor Vehicle Company\">Rapid Motor Vehicle Company</a> in 1902. <br/> Rapid was acquired in 1909 by General Motors, which merged it with the <a class=\"mw-redirect\" href=\"/wiki/Reliance_Motor_Car_Company\" title=\"Reliance Motor Car Company\">Reliance Motor Car Company</a> in <br/> 1911 to form the General Motors Truck Company (GMTC). <br/> In 1912 the two brands were replaced with the GMC brand.\n",
      "</td></tr>, <tr>\n",
      "<td rowspan=\"4\"><a href=\"/wiki/Chrysler\" title=\"Chrysler\">Stellantis</a></td>\n",
      "<td><a href=\"/wiki/Chrysler_(brand)\" title=\"Chrysler (brand)\">Chrysler</a></td>\n",
      "<td>Founded in 1925 from the remnants of the <a href=\"/wiki/Maxwell_Motor_Company\" title=\"Maxwell Motor Company\">Maxwell Motor Company</a>. <br/> Acquired by <a class=\"mw-redirect\" href=\"/wiki/Daimler_AG\" title=\"Daimler AG\">Daimler-Benz</a> in 1998, forming DaimlerChrysler. <br/> Divested in 2007 and acquired by <a href=\"/wiki/Fiat_S.p.A.\" title=\"Fiat S.p.A.\">Fiat S.p.A.</a> in 2014, forming <a href=\"/wiki/Fiat_Chrysler_Automobiles\" title=\"Fiat Chrysler Automobiles\">Fiat Chrysler Automobiles</a> (FCA). <br/> FCA and <a href=\"/wiki/PSA_Group\" title=\"PSA Group\">PSA Group</a> merged in 2021 to form <a href=\"/wiki/Stellantis\" title=\"Stellantis\">Stellantis</a>.\n",
      "</td></tr>, <tr>\n",
      "<td><a href=\"/wiki/Dodge\" title=\"Dodge\">Dodge</a></td>\n",
      "<td>Founded in 1914 and acquired by Chrysler in 1928.\n",
      "</td></tr>, <tr>\n",
      "<td><a href=\"/wiki/Jeep\" title=\"Jeep\">Jeep</a></td>\n",
      "<td>Founded in 1941 by <a class=\"mw-redirect\" href=\"/wiki/Willys-Overland\" title=\"Willys-Overland\">Willys-Overland</a>, which merged with <a href=\"/wiki/Kaiser_Motors\" title=\"Kaiser Motors\">Kaiser Motors</a> in 1953. <br/> Kaiser Industries divested its automotive business to <a href=\"/wiki/American_Motors_Corporation\" title=\"American Motors Corporation\">AMC</a> in 1970, itself acquired by Chrysler in 1987.\n",
      "</td></tr>, <tr>\n",
      "<td><a href=\"/wiki/Ram_Trucks\" title=\"Ram Trucks\">Ram Trucks</a></td>\n",
      "<td>Formed in 2010 during a restructure of Chrysler's truck brands.\n",
      "</td></tr>, <tr>\n",
      "<td rowspan=\"2\"><a href=\"/wiki/Ford_Motor_Company\" title=\"Ford Motor Company\">Ford Motor Company</a></td>\n",
      "<td><a href=\"/wiki/Ford_Motor_Company\" title=\"Ford Motor Company\">Ford</a></td>\n",
      "<td>Founded in 1903 as Ford.\n",
      "</td></tr>, <tr>\n",
      "<td><a href=\"/wiki/Lincoln_Motor_Company\" title=\"Lincoln Motor Company\">Lincoln</a></td>\n",
      "<td>Founded in 1917 and acquired by Ford Motor Company in 1922.\n",
      "</td></tr>]\n"
     ]
    }
   ],
   "source": [
    "print(column_data)"
   ]
  },
  {
   "cell_type": "code",
   "execution_count": 12,
   "metadata": {},
   "outputs": [
    {
     "name": "stdout",
     "output_type": "stream",
     "text": [
      "       Parent company     Brand  \\\n",
      "0      General Motors     Buick   \n",
      "1          Stellantis  Chrysler   \n",
      "2  Ford Motor Company      Ford   \n",
      "\n",
      "                                               Notes  \n",
      "0  Founded in 1899 as 'Buick Auto-Vim and Power C...  \n",
      "1  Founded in 1925 from the remnants of the Maxwe...  \n",
      "2                           Founded in 1903 as Ford.  \n"
     ]
    },
    {
     "data": {
      "text/html": [
       "<div>\n",
       "<style scoped>\n",
       "    .dataframe tbody tr th:only-of-type {\n",
       "        vertical-align: middle;\n",
       "    }\n",
       "\n",
       "    .dataframe tbody tr th {\n",
       "        vertical-align: top;\n",
       "    }\n",
       "\n",
       "    .dataframe thead th {\n",
       "        text-align: right;\n",
       "    }\n",
       "</style>\n",
       "<table border=\"1\" class=\"dataframe\">\n",
       "  <thead>\n",
       "    <tr style=\"text-align: right;\">\n",
       "      <th></th>\n",
       "      <th>Parent company</th>\n",
       "      <th>Brand</th>\n",
       "      <th>Notes</th>\n",
       "    </tr>\n",
       "  </thead>\n",
       "  <tbody>\n",
       "    <tr>\n",
       "      <th>0</th>\n",
       "      <td>General Motors</td>\n",
       "      <td>Buick</td>\n",
       "      <td>Founded in 1899 as 'Buick Auto-Vim and Power C...</td>\n",
       "    </tr>\n",
       "    <tr>\n",
       "      <th>1</th>\n",
       "      <td>Stellantis</td>\n",
       "      <td>Chrysler</td>\n",
       "      <td>Founded in 1925 from the remnants of the Maxwe...</td>\n",
       "    </tr>\n",
       "    <tr>\n",
       "      <th>2</th>\n",
       "      <td>Ford Motor Company</td>\n",
       "      <td>Ford</td>\n",
       "      <td>Founded in 1903 as Ford.</td>\n",
       "    </tr>\n",
       "  </tbody>\n",
       "</table>\n",
       "</div>"
      ],
      "text/plain": [
       "       Parent company     Brand  \\\n",
       "0      General Motors     Buick   \n",
       "1          Stellantis  Chrysler   \n",
       "2  Ford Motor Company      Ford   \n",
       "\n",
       "                                               Notes  \n",
       "0  Founded in 1899 as 'Buick Auto-Vim and Power C...  \n",
       "1  Founded in 1925 from the remnants of the Maxwe...  \n",
       "2                           Founded in 1903 as Ford.  "
      ]
     },
     "execution_count": 12,
     "metadata": {},
     "output_type": "execute_result"
    }
   ],
   "source": [
    "column_data = table.find_all('tr')\n",
    "\n",
    "rows = []\n",
    "\n",
    "# Loop through table rows (skip the header)\n",
    "for row in column_data[1:]:\n",
    "    row_data = row.find_all('td')\n",
    "    individual_row = [data.text.strip() for data in row_data]  # Extract text\n",
    "    \n",
    "    # Append only if the row has all three columns (avoid errors)\n",
    "    if len(individual_row) == 3:\n",
    "        rows.append(individual_row)\n",
    "\n",
    "# Create a DataFrame\n",
    "df = pd.DataFrame(rows, columns=word_titles)\n",
    "\n",
    "# Display the DataFrame\n",
    "print(df)\n",
    "\n",
    "df"
   ]
  }
 ],
 "metadata": {
  "kernelspec": {
   "display_name": "Python 3",
   "language": "python",
   "name": "python3"
  },
  "language_info": {
   "codemirror_mode": {
    "name": "ipython",
    "version": 3
   },
   "file_extension": ".py",
   "mimetype": "text/x-python",
   "name": "python",
   "nbconvert_exporter": "python",
   "pygments_lexer": "ipython3",
   "version": "3.9.6"
  }
 },
 "nbformat": 4,
 "nbformat_minor": 2
}
